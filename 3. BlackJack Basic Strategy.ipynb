{
 "cells": [
  {
   "cell_type": "markdown",
   "id": "ebcd5e59",
   "metadata": {},
   "source": [
    "## Strategy is based on thresholds, both player and dealer"
   ]
  },
  {
   "cell_type": "code",
   "execution_count": 35,
   "id": "875a5dc2",
   "metadata": {},
   "outputs": [],
   "source": [
    "from blackjack import Game\n",
    "from IPython.display import clear_output\n",
    "import matplotlib.pyplot as plt\n",
    "import numpy as np\n",
    "%matplotlib qt"
   ]
  },
  {
   "cell_type": "code",
   "execution_count": 36,
   "id": "68e28d2a",
   "metadata": {},
   "outputs": [],
   "source": [
    "NUM_OF_GAMES = 10_000\n",
    "MIN_THRESHOLD = 10\n",
    "MAX_THRESHOLD = 19\n",
    "THRESHOLD_L = list(range(MIN_THRESHOLD, MAX_THRESHOLD+1))"
   ]
  },
  {
   "cell_type": "code",
   "execution_count": 14,
   "id": "9afff003",
   "metadata": {},
   "outputs": [],
   "source": [
    "def monte_carlo_simulation(number_of_games, threshold_list):\n",
    "    result = []\n",
    "    for i, player_t in enumerate(threshold_list):\n",
    "        res = []\n",
    "        for j, dealer_t in enumerate(threshold_list):\n",
    "            new_game = Game(player_t, dealer_t)\n",
    "            for _ in range(number_of_games):\n",
    "                new_game.play()\n",
    "                new_game.reset()\n",
    "            score = new_game.get_not_losing()\n",
    "            res.append(score)\n",
    "            print(f\"DONE {i*len(threshold_list)+j+1}/{pow(len(threshold_list), 2)}\")\n",
    "            clear_output(wait=True)\n",
    "        result.append(res)\n",
    "    return result"
   ]
  },
  {
   "cell_type": "code",
   "execution_count": 17,
   "id": "1e425c57",
   "metadata": {},
   "outputs": [
    {
     "name": "stdout",
     "output_type": "stream",
     "text": [
      "CPU times: total: 53.9 s\n",
      "Wall time: 53.9 s\n"
     ]
    }
   ],
   "source": [
    "%%time\n",
    "black_jack_results = monte_carlo_simulation(NUM_OF_GAMES, THRESHOLD_L)"
   ]
  },
  {
   "cell_type": "code",
   "execution_count": 62,
   "id": "a388330a",
   "metadata": {},
   "outputs": [],
   "source": [
    "ax = plt.axes(projection=\"3d\")\n",
    "X, Y = np.meshgrid(THRESHOLD_L, THRESHOLD_L)\n",
    "Z = np.array(black_jack_results)\n",
    "my_cmap = plt.get_cmap('RdYlGn')\n",
    "\n",
    "plt.title(\"BlackJack Strategy 3D Surface\")\n",
    "\n",
    "ax.plot_surface(X, Y, Z, cmap=my_cmap)\n",
    "ax.view_init(azim=-130, elev=55)\n",
    "plt.show()"
   ]
  },
  {
   "cell_type": "code",
   "execution_count": null,
   "id": "ae2700ad",
   "metadata": {},
   "outputs": [],
   "source": []
  },
  {
   "cell_type": "code",
   "execution_count": null,
   "id": "b6f7dde4",
   "metadata": {},
   "outputs": [],
   "source": []
  }
 ],
 "metadata": {
  "kernelspec": {
   "display_name": "Python 3 (ipykernel)",
   "language": "python",
   "name": "python3"
  },
  "language_info": {
   "codemirror_mode": {
    "name": "ipython",
    "version": 3
   },
   "file_extension": ".py",
   "mimetype": "text/x-python",
   "name": "python",
   "nbconvert_exporter": "python",
   "pygments_lexer": "ipython3",
   "version": "3.9.12"
  }
 },
 "nbformat": 4,
 "nbformat_minor": 5
}
