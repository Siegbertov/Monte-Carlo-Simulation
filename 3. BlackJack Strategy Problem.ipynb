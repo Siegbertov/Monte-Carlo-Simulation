{
 "cells": [
  {
   "cell_type": "markdown",
   "id": "ebcd5e59",
   "metadata": {},
   "source": [
    "## Evaluating best strategy:\n",
    "\n",
    "### STRATEGY#1: 'threshold'\n",
    "* STAND(stay with your cards) if your score equals your threshold, otherwise HIT(take one card)\n",
    "### STRATEGY#2: 'always split'\n",
    "* SPLIT(split hand) always if it's possible, otherwise STAND(stay with your cards) if your score equals your threshold, otherwise HIT(take one card)\n",
    "\n",
    "`dealer always plays with threshold strategy`"
   ]
  },
  {
   "cell_type": "code",
   "execution_count": 1,
   "id": "875a5dc2",
   "metadata": {},
   "outputs": [],
   "source": [
    "from blackjack import Game # main module\n",
    "from IPython.display import clear_output\n",
    "import matplotlib.pyplot as plt\n",
    "import time\n",
    "from tqdm import tqdm\n",
    "import numpy as np\n",
    "%matplotlib qt"
   ]
  },
  {
   "cell_type": "code",
   "execution_count": 2,
   "id": "13172a2c",
   "metadata": {},
   "outputs": [],
   "source": [
    "def get_score_from(number_of_games, strategy, dealer_threshold):\n",
    "    new_game = Game(strategy, dealer_threshold)\n",
    "    for _ in range(number_of_games):\n",
    "        new_game.play()\n",
    "        new_game.reset()\n",
    "        \n",
    "    return new_game.get_not_losing()"
   ]
  },
  {
   "cell_type": "code",
   "execution_count": 3,
   "id": "f9bea633",
   "metadata": {},
   "outputs": [],
   "source": [
    "start_g, end_g = 1_000, 5_000\n",
    "DEALER_THRESHOLDS = [16, 17, 18]\n",
    "\n",
    "STRATEGIES = ['threshold', 'always_split']\n",
    "NUMBER_OF_GAMES = [x for x in range(start_g, end_g)]"
   ]
  },
  {
   "cell_type": "code",
   "execution_count": 4,
   "id": "ab086d1b",
   "metadata": {},
   "outputs": [
    {
     "name": "stdout",
     "output_type": "stream",
     "text": [
      "16\n",
      "threshold\n"
     ]
    },
    {
     "name": "stderr",
     "output_type": "stream",
     "text": [
      "100%|██████████████████████████████████████████████████████████████████████████████| 4000/4000 [14:18<00:00,  4.66it/s]\n"
     ]
    },
    {
     "name": "stdout",
     "output_type": "stream",
     "text": [
      "always_split\n"
     ]
    },
    {
     "name": "stderr",
     "output_type": "stream",
     "text": [
      "100%|██████████████████████████████████████████████████████████████████████████████| 4000/4000 [14:42<00:00,  4.53it/s]\n"
     ]
    },
    {
     "name": "stdout",
     "output_type": "stream",
     "text": [
      "17\n",
      "threshold\n"
     ]
    },
    {
     "name": "stderr",
     "output_type": "stream",
     "text": [
      "100%|██████████████████████████████████████████████████████████████████████████████| 4000/4000 [14:52<00:00,  4.48it/s]\n"
     ]
    },
    {
     "name": "stdout",
     "output_type": "stream",
     "text": [
      "always_split\n"
     ]
    },
    {
     "name": "stderr",
     "output_type": "stream",
     "text": [
      "100%|██████████████████████████████████████████████████████████████████████████████| 4000/4000 [15:04<00:00,  4.42it/s]\n"
     ]
    },
    {
     "name": "stdout",
     "output_type": "stream",
     "text": [
      "18\n",
      "threshold\n"
     ]
    },
    {
     "name": "stderr",
     "output_type": "stream",
     "text": [
      "100%|██████████████████████████████████████████████████████████████████████████████| 4000/4000 [14:45<00:00,  4.52it/s]\n"
     ]
    },
    {
     "name": "stdout",
     "output_type": "stream",
     "text": [
      "always_split\n"
     ]
    },
    {
     "name": "stderr",
     "output_type": "stream",
     "text": [
      "100%|██████████████████████████████████████████████████████████████████████████████| 4000/4000 [15:10<00:00,  4.39it/s]"
     ]
    },
    {
     "name": "stdout",
     "output_type": "stream",
     "text": [
      "CPU times: total: 1h 28min 44s\n",
      "Wall time: 1h 28min 54s\n"
     ]
    },
    {
     "name": "stderr",
     "output_type": "stream",
     "text": [
      "\n"
     ]
    }
   ],
   "source": [
    "%%time\n",
    "results = {}\n",
    "for d_threshold in DEALER_THRESHOLDS:\n",
    "    result = {}\n",
    "    print(d_threshold)\n",
    "    for strategy in STRATEGIES:\n",
    "        print(strategy)\n",
    "        res = []\n",
    "        for num in tqdm(NUMBER_OF_GAMES):\n",
    "            res.append(get_score_from(num, strategy, d_threshold))\n",
    "        result[strategy] = res\n",
    "    results[d_threshold] = result"
   ]
  },
  {
   "cell_type": "code",
   "execution_count": 5,
   "id": "302cd7d9",
   "metadata": {},
   "outputs": [],
   "source": [
    "fig, axes = plt.subplots(len(results), figsize=(15, 8))\n",
    "fig.suptitle('Blackjack', fontsize=20)\n",
    "\n",
    "for i in range(len(axes)):\n",
    "    x = NUMBER_OF_GAMES\n",
    "    y1, y2 = results[list(results)[i]]['threshold'], results[list(results)[i]]['always_split']\n",
    "    \n",
    "    axes[i].set_title(f\"Dealer Threshold={list(results)[i]}\")\n",
    "    \n",
    "    axes[i].plot(x, y1, label='threshold')\n",
    "    axes[i].plot(x, y2, label='split')\n",
    "    axes[i].axhline(np.mean(y1), color='blue', linestyle='--')\n",
    "    axes[i].axhline(np.mean(y2), color='orange', linestyle='--')\n",
    "    axes[i].legend(loc='upper right')\n",
    "    \n",
    "    axes[i].set_ylabel('Not-Losing Rate', fontsize=14)\n",
    "    \n",
    "    if i+1 == len(results):\n",
    "        axes[i].set_xlabel('Number of Games', fontsize=20)\n",
    "    \n",
    "    \n",
    "plt.show()"
   ]
  }
 ],
 "metadata": {
  "kernelspec": {
   "display_name": "Python 3 (ipykernel)",
   "language": "python",
   "name": "python3"
  },
  "language_info": {
   "codemirror_mode": {
    "name": "ipython",
    "version": 3
   },
   "file_extension": ".py",
   "mimetype": "text/x-python",
   "name": "python",
   "nbconvert_exporter": "python",
   "pygments_lexer": "ipython3",
   "version": "3.9.12"
  }
 },
 "nbformat": 4,
 "nbformat_minor": 5
}
